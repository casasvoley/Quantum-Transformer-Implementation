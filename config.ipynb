{
  "nbformat": 4,
  "nbformat_minor": 0,
  "metadata": {
    "colab": {
      "provenance": [],
      "authorship_tag": "ABX9TyMqvRRc/OmiXsS1QOstIaZv",
      "include_colab_link": true
    },
    "kernelspec": {
      "name": "python3",
      "display_name": "Python 3"
    },
    "language_info": {
      "name": "python"
    }
  },
  "cells": [
    {
      "cell_type": "markdown",
      "metadata": {
        "id": "view-in-github",
        "colab_type": "text"
      },
      "source": [
        "<a href=\"https://colab.research.google.com/github/casasvoley/Quantum-Transformer-Implementation/blob/main/run.ipynb\" target=\"_parent\"><img src=\"https://colab.research.google.com/assets/colab-badge.svg\" alt=\"Open In Colab\"/></a>"
      ]
    },
    {
      "cell_type": "code",
      "execution_count": null,
      "metadata": {
        "id": "egv6dQxQHY7M"
      },
      "outputs": [],
      "source": [
        "import argparse\n",
        "import torch\n",
        "\n",
        "from quixer.setup_training import get_train_evaluate\n"
      ]
    },
    {
      "cell_type": "code",
      "source": [
        "##################################################\n",
        "# Default hyperparameters for each of the models #\n",
        "##################################################\n",
        "\n",
        "quixer_hparams = {\n",
        "    \"qubits\": 6,\n",
        "    \"layers\": 3,\n",
        "    \"ansatz_layers\": 4,\n",
        "    \"window\": 32,\n",
        "    \"epochs\": 30,\n",
        "    \"restart_epochs\": 30000,\n",
        "    \"dropout\": 0.10,\n",
        "    \"lr\": 0.002,\n",
        "    \"lr_sched\": \"cos\",\n",
        "    \"wd\": 0.0001,\n",
        "    \"eps\": 1e-10,\n",
        "    \"batch_size\": 32,\n",
        "    \"max_grad_norm\": 5.0,\n",
        "    \"model\": \"Quixer\",\n",
        "    \"print_iter\": 50,\n",
        "}\n",
        "\n",
        "\n",
        "lstm_hparams = {\n",
        "    \"layers\": 2,\n",
        "    \"window\": 32,\n",
        "    \"residuals\": False,\n",
        "    \"epochs\": 30,\n",
        "    \"restart_epochs\": 30000,\n",
        "    \"dropout\": 0.30,\n",
        "    \"lr\": 0.002,\n",
        "    \"lr_sched\": \"cos\",\n",
        "    \"wd\": 0.0001,\n",
        "    \"eps\": 1e-10,\n",
        "    \"batch_size\": 32,\n",
        "    \"max_grad_norm\": 5.0,\n",
        "    \"print_iter\": 50,\n",
        "}\n",
        "\n",
        "\n",
        "fnet_hparams = {\n",
        "    \"layers\": 2,\n",
        "    \"window\": 32,\n",
        "    \"epochs\": 30,\n",
        "    \"restart_epochs\": 30000,\n",
        "    \"dropout\": 0.10,\n",
        "    \"lr\": 0.002,\n",
        "    \"lr_sched\": \"cos\",\n",
        "    \"wd\": 0.0001,\n",
        "    \"eps\": 1e-10,\n",
        "    \"batch_size\": 32,\n",
        "    \"max_grad_norm\": 5.0,\n",
        "    \"model\": \"FNet\",\n",
        "    \"print_iter\": 50,\n",
        "}\n",
        "\n",
        "\n",
        "transformer_hparams = {\n",
        "    \"layers\": 1,\n",
        "    \"heads\": 1,\n",
        "    \"window\": 32,\n",
        "    \"epochs\": 30,\n",
        "    \"restart_epochs\": 30000,\n",
        "    \"dropout\": 0.10,\n",
        "    \"lr\": 0.001,\n",
        "    \"lr_sched\": \"cos\",\n",
        "    \"wd\": 0.0001,\n",
        "    \"eps\": 1e-10,\n",
        "    \"batch_size\": 32,\n",
        "    \"max_grad_norm\": 5.0,\n",
        "    \"model\": \"Transformer\",\n",
        "    \"print_iter\": 50,\n",
        "}\n",
        "\n",
        "##################################################"
      ],
      "metadata": {
        "id": "fGcQrlRjJXpf"
      },
      "execution_count": null,
      "outputs": []
    },
    {
      "cell_type": "code",
      "source": [
        "# Embedding dimensions\n",
        "classical_embedding_dimensions = [96, 128]\n",
        "quantum_embedding_dimensions = [512]\n",
        "\n",
        "# Dictionary defining available models along with associated hyperparameters\n",
        "model_map = {\n",
        "    \"Quixer\": (quixer_hparams, quantum_embedding_dimensions),\n",
        "    \"Transformer\": (transformer_hparams, classical_embedding_dimensions),\n",
        "    \"LSTM\": (lstm_hparams, classical_embedding_dimensions),\n",
        "    \"FNet\": (fnet_hparams, classical_embedding_dimensions),\n",
        "}\n",
        "available_models = list(model_map.keys())\n",
        "\n",
        "# Parse command line arguments\n",
        "args = argparse.ArgumentParser(\n",
        "    prog=\"Quixer\", description=\"Runs the Quixer model and/or classical baselines\"\n",
        ")\n",
        "args.add_argument(\n",
        "    \"-m\",\n",
        "    \"--model\",\n",
        "    default=\"Quixer\",\n",
        "    choices=available_models,\n",
        "    nargs=\"*\",\n",
        "    help=\"Model(s) to run.\",\n",
        ")"
      ],
      "metadata": {
        "id": "zRKJv-fXJYb-"
      },
      "execution_count": null,
      "outputs": []
    },
    {
      "cell_type": "code",
      "source": [
        "args.add_argument(\"-d\", \"--device\", default=\"cpu\", help=\"Device to run training on.\")\n",
        "parsed = args.parse_args()\n",
        "\n",
        "device_name = parsed.device\n",
        "models_to_run = parsed.model if type(parsed.model) is list else [parsed.model]\n",
        "\n",
        "# Make algorithms deterministic for reproducibility\n",
        "torch.backends.cudnn.deterministic = True\n",
        "\n",
        "\n",
        "device = torch.device(device_name)\n",
        "print(f\"Running on device: {device}\")\n",
        "\n",
        "train_evaluate = get_train_evaluate(device)"
      ],
      "metadata": {
        "id": "TDLO8DxUJdum"
      },
      "execution_count": null,
      "outputs": []
    },
    {
      "cell_type": "code",
      "source": [
        "for model_name in models_to_run:\n",
        "    hyperparameters, embedding_dimensions = model_map[model_name]\n",
        "    for embedding_dimension in embedding_dimensions:\n",
        "        for seed in torch.randint(high=1000000, size=(10,)).tolist():\n",
        "            hyperparameters[\"model\"] = model_name\n",
        "            hyperparameters[\"dimension\"] = embedding_dimension\n",
        "            hyperparameters[\"seed\"] = seed\n",
        "\n",
        "            train_evaluate(hyperparameters)"
      ],
      "metadata": {
        "id": "FE7GR1BCJiZ3"
      },
      "execution_count": null,
      "outputs": []
    }
  ]
}
